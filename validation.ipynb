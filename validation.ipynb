{
 "cells": [
  {
   "cell_type": "markdown",
   "metadata": {},
   "source": [
    "# Validation Model"
   ]
  },
  {
   "cell_type": "code",
   "execution_count": null,
   "metadata": {},
   "outputs": [],
   "source": [
    "from dotenv import load_dotenv\n",
    "# from langchain_community.utilities import SQLDatabase\n",
    "from langchain.sql_database import SQLDatabase\n",
    "from langchain_core.prompts import PromptTemplate, ChatPromptTemplate\n",
    "from langchain_core.runnables import RunnablePassthrough\n",
    "from langchain_core.output_parsers import StrOutputParser\n",
    "from functools import partial\n",
    "from langchain_nvidia_ai_endpoints import ChatNVIDIA\n",
    "\n",
    "import langchain\n",
    "langchain.verbose=True\n",
    "\n",
    "import sqlglot\n",
    "import os"
   ]
  },
  {
   "cell_type": "code",
   "execution_count": null,
   "metadata": {},
   "outputs": [],
   "source": [
    "load_dotenv('secret.env')\n",
    "api_key = os.getenv(\"NVIDIA_API_KEY\")\n",
    "print(api_key)"
   ]
  },
  {
   "cell_type": "code",
   "execution_count": null,
   "metadata": {},
   "outputs": [],
   "source": [
    "chat_llm=ChatNVIDIA(\n",
    "    model = \"meta/llama3-70b-instruct\",\n",
    "    max_tokens=1000\n",
    "    api_key = api_key\n",
    ")"
   ]
  },
  {
   "cell_type": "code",
   "execution_count": null,
   "metadata": {},
   "outputs": [],
   "source": [
    "user_input = [\n",
    "    # Questions on Player Performance\n",
    "    \"What was LeBron James’ field goal percentage in the 2020 season?\",\n",
    "    \"Who had the most assists per game in the 2019-2020 season?\",\n",
    "    \"List the top 5 players with the highest points per game in the 2021 season.\",\n",
    "    \"Which player had the highest free throw percentage in the 2022 playoffs?\",\n",
    "    \"What is the average number of rebounds for centers in the 2021-2022 season?\",\n",
    "\n",
    "    # Questions on Team Performance\n",
    "    \"Which team had the highest three-point shooting percentage in the 2020 season?\",\n",
    "    \"What was the total number of wins for the Golden State Warriors in the 2021-2022 season?\",\n",
    "    \"Which team scored the most points in a single game during the 2022 season?\",\n",
    "    \"What was the average team efficiency rating for playoff teams in the 2019 season?\",\n",
    "    \"List the top 3 teams with the most turnovers in the 2020-2021 season.\",\n",
    "\n",
    "    # Questions on Season Comparisons\n",
    "    \"How did the scoring average of Stephen Curry in 2022 compare to 2021?\",\n",
    "    \"What was the difference in offensive rebounds between the 2020 and 2021 seasons for the Los Angeles Lakers?\",\n",
    "    \"Compare the total number of blocks made by the Milwaukee Bucks in the 2019 and 2021 seasons.\",\n",
    "    \"How did team assist averages differ between the 2018 and 2020 seasons?\",\n",
    "    \"Which season had the highest average points scored per game by all players combined?\",\n",
    "\n",
    "    # Questions on Game Outcomes\n",
    "    \"What is the win-loss record for the Miami Heat against the Boston Celtics in the 2020 playoffs?\",\n",
    "    \"Which player scored the game-winning shot in the 2021 NBA Finals, Game 5?\",\n",
    "    \"What was the point differential in the 2019 NBA All-Star Game?\",\n",
    "    \"How many triple-doubles were recorded in the 2021 season?\",\n",
    "    \"What was the largest comeback victory in the 2022 season?\",\n",
    "\n",
    "    # Questions on Advanced Metrics\n",
    "    \"Who had the highest Player Efficiency Rating (PER) in the 2019 playoffs?\",\n",
    "    \"Which player led the league in Win Shares in the 2020-2021 season?\",\n",
    "    \"What is the average Usage Rate for point guards in the 2021 season?\",\n",
    "    \"List the top 5 players with the best defensive rating in the 2022 season.\",\n",
    "    \"Which player had the highest Value Over Replacement Player (VORP) in the 2020 season?\",\n",
    "\n",
    "    # Questions on Career Stats\n",
    "    \"What is Kevin Durant’s career three-point percentage?\",\n",
    "    \"How many total rebounds does Russell Westbrook have in his career?\",\n",
    "    \"List all players who have averaged a triple-double for an entire season.\",\n",
    "    \"Who has the most career blocks in NBA history?\",\n",
    "    \"What is the average points per game for Michael Jordan across all his NBA Finals appearances?\"\n",
    "]\n"
   ]
  },
  {
   "cell_type": "code",
   "execution_count": 1,
   "metadata": {},
   "outputs": [
    {
     "ename": "NameError",
     "evalue": "name 'user_input' is not defined",
     "output_type": "error",
     "traceback": [
      "\u001b[0;31m---------------------------------------------------------------------------\u001b[0m",
      "\u001b[0;31mNameError\u001b[0m                                 Traceback (most recent call last)",
      "Cell \u001b[0;32mIn[1], line 1\u001b[0m\n\u001b[0;32m----> 1\u001b[0m user_input \u001b[38;5;241m=\u001b[39m \u001b[43muser_input\u001b[49m[\u001b[38;5;241m0\u001b[39m]\n\u001b[1;32m      2\u001b[0m \u001b[38;5;28mprint\u001b[39m(user_input)\n",
      "\u001b[0;31mNameError\u001b[0m: name 'user_input' is not defined"
     ]
    }
   ],
   "source": [
    "user_input = user_input[0]\n",
    "print(user_input)"
   ]
  },
  {
   "cell_type": "code",
   "execution_count": null,
   "metadata": {},
   "outputs": [],
   "source": [
    "VAL_GEN_TEMPLATE = \"\"\"\n",
    "### Task\n",
    "Analyze the [USER_INPUT]{user_input}[/USER_INPUT] and the [MODEL_RESPONSE]{model_response}[/MODEL_RESPONSE] to determine if the user_input is relevant to the model_response. If the model_response and the user_input are relevant, the model should return the word 'relevant'; otherwise, it should return 'irrelevant.' Follow the format below:\n",
    "[MODEL_RESPONSE]{model_response}[/MODEL_RESPONSE]\n",
    "### Instructions\n",
    "- Always analyze and compare both the user_input and the model_response.\n",
    "- Always provide a binary answer of 'relevant' or 'irrelevant.'\n",
    "### Answer\n",
    "'relevant' or 'irrelevant' [MODEL_RESPONSE]{model_response}[/MODEL_RESPONSE]\n",
    "[USER_INPUT]{user_input}[/USER_INPUT]\n",
    "[SUFFIX][/SQL][PREFIX]▁[SQL]\\n\n",
    "\"\"\""
   ]
  },
  {
   "cell_type": "code",
   "execution_count": null,
   "metadata": {},
   "outputs": [],
   "source": [
    "prompt=PromptTemplate.from_template(VAL_GEN_TEMPLATE)\n",
    "response=(\n",
    "    RunnablePassthrough.assign()\n",
    "    | prompt\n",
    "    | chat_llm\n",
    "    | StrOutputParser()\n",
    ")\n",
    "validation_response=response.invoke({\"question\": \"What is Kobe Bryant's shooting percentage?\"})\n",
    "print(validation_response)"
   ]
  }
 ],
 "metadata": {
  "kernelspec": {
   "display_name": "Python 3",
   "language": "python",
   "name": "python3"
  },
  "language_info": {
   "codemirror_mode": {
    "name": "ipython",
    "version": 3
   },
   "file_extension": ".py",
   "mimetype": "text/x-python",
   "name": "python",
   "nbconvert_exporter": "python",
   "pygments_lexer": "ipython3",
   "version": "3.12.3"
  }
 },
 "nbformat": 4,
 "nbformat_minor": 2
}
