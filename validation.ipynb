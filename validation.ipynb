{
 "cells": [
  {
   "cell_type": "markdown",
   "id": "d08739e3-8b40-44d1-90d9-cfb215b9e5f1",
   "metadata": {
    "id": "d08739e3-8b40-44d1-90d9-cfb215b9e5f1"
   },
   "source": [
    "## Chain\n",
    "1. Take natural language query from\n",
    "2. Translate (using code LLM) the natural language query from #1 into SQL command\n",
    "3. Run the query from #2 against the db"
   ]
  },
  {
   "cell_type": "markdown",
   "id": "d80e1c6a",
   "metadata": {},
   "source": [
    "# Import project dependencies"
   ]
  },
  {
   "cell_type": "code",
   "execution_count": 145,
   "id": "12180d6a-601f-4014-8795-06af63803d59",
   "metadata": {
    "id": "12180d6a-601f-4014-8795-06af63803d59",
    "tags": []
   },
   "outputs": [],
   "source": [
    "from dotenv import load_dotenv\n",
    "from langchain_community.utilities import SQLDatabase\n",
    "from langchain.sql_database import SQLDatabase\n",
    "from langchain_core.prompts import PromptTemplate, ChatPromptTemplate\n",
    "from langchain_core.messages import AIMessage, HumanMessage\n",
    "from langchain_core.runnables import RunnablePassthrough\n",
    "from langchain_core.output_parsers import StrOutputParser\n",
    "from langchain_community.agent_toolkits import create_sql_agent\n",
    "from functools import partial\n",
    "from langchain_nvidia_ai_endpoints import ChatNVIDIA\n",
    "import pandas as pd\n",
    "\n",
    "import langchain\n",
    "# langchain.verbose=True\n",
    "\n",
    "import sqlglot\n",
    "import os"
   ]
  },
  {
   "cell_type": "markdown",
   "id": "709d8d8d",
   "metadata": {},
   "source": [
    "### Pull database into project"
   ]
  },
  {
   "cell_type": "code",
   "execution_count": 146,
   "id": "37c6e225-bb90-45a5-9bc3-b8bc291ae53a",
   "metadata": {
    "colab": {
     "base_uri": "https://localhost:8080/"
    },
    "id": "37c6e225-bb90-45a5-9bc3-b8bc291ae53a",
    "outputId": "d45fb203-65f5-4281-9d5b-0572a198a501",
    "scrolled": true,
    "tags": []
   },
   "outputs": [
    {
     "name": "stdout",
     "output_type": "stream",
     "text": [
      "\n",
      "CREATE TABLE player_stats (\n",
      "\t\"YEAR\" TEXT, \n",
      "\t\"SEASON_TYPE\" TEXT, \n",
      "\t\"PLAYER_RANK\" INTEGER, \n",
      "\t\"PLAYER_NAME\" TEXT, \n",
      "\t\"TEAM_ABRV\" TEXT, \n",
      "\t\"GAMES_PLAYED\" INTEGER, \n",
      "\t\"MINUTES_PLAYED\" INTEGER, \n",
      "\t\"FIELD_GOALS_MADE\" INTEGER, \n",
      "\t\"FIELD_GOALS_ATTEMPTED\" INTEGER, \n",
      "\t\"FIELD_GOAL_PERCENTAGE\" REAL, \n",
      "\t\"THREE_POINTERS_MADE\" INTEGER, \n",
      "\t\"THREE_POINTERS_ATTEMPTED\" INTEGER, \n",
      "\t\"THREE_POINT_PERCENTAGE\" REAL, \n",
      "\t\"FREE_THROWS_MADE\" INTEGER, \n",
      "\t\"FREE_THROWS_ATTEMPTED\" INTEGER, \n",
      "\t\"FREE_THROW_PERCENTAGE\" REAL, \n",
      "\t\"OFFENSIVE_REBOUNDS\" INTEGER, \n",
      "\t\"DEFENSIVE_REBOUNDS\" INTEGER, \n",
      "\t\"TOTAL_REBOUNDS\" INTEGER, \n",
      "\t\"ASSISTS\" INTEGER, \n",
      "\t\"STEALS\" INTEGER, \n",
      "\t\"BLOCKS\" INTEGER, \n",
      "\t\"TURNOVERS\" INTEGER, \n",
      "\t\"PERSONAL_FOULS\" INTEGER, \n",
      "\t\"POINTS\" INTEGER, \n",
      "\t\"ASSISTS_TO_TURNOVER_RATIO\" REAL, \n",
      "\t\"STEALS_TO_TURNOVER_RATIO\" REAL, \n",
      "\t\"TEAM\" TEXT\n",
      ")\n",
      "\n",
      "/*\n",
      "3 rows from player_stats table:\n",
      "YEAR\tSEASON_TYPE\tPLAYER_RANK\tPLAYER_NAME\tTEAM_ABRV\tGAMES_PLAYED\tMINUTES_PLAYED\tFIELD_GOALS_MADE\tFIELD_GOALS_ATTEMPTED\tFIELD_GOAL_PERCENTAGE\tTHREE_POINTERS_MADE\tTHREE_POINTERS_ATTEMPTED\tTHREE_POINT_PERCENTAGE\tFREE_THROWS_MADE\tFREE_THROWS_ATTEMPTED\tFREE_THROW_PERCENTAGE\tOFFENSIVE_REBOUNDS\tDEFENSIVE_REBOUNDS\tTOTAL_REBOUNDS\tASSISTS\tSTEALS\tBLOCKS\tTURNOVERS\tPERSONAL_FOULS\tPOINTS\tASSISTS_TO_TURNOVER_RATIO\tSTEALS_TO_TURNOVER_RATIO\tTEAM\n",
      "2012\tRegular_Season\t1\tKevin Durant\tOKC\t81\t3119\t731\t1433\t0.51\t139\t334\t0.416\t679\t750\t0.905\t46\t594\t640\t374\t116\t105\t280\t143\t2280\t1.34\t0.41\tOklahoma City Thunder\n",
      "2012\tRegular_Season\t2\tKobe Bryant\tLAL\t78\t3013\t738\t1595\t0.463\t132\t407\t0.324\t525\t626\t0.839\t66\t367\t433\t469\t106\t25\t287\t173\t2133\t1.63\t0.37\tLos Angeles Lakers\n",
      "2012\tRegular_Season\t3\tLebron James\tMIA\t76\t2877\t765\t1354\t0.565\t103\t254\t0.406\t403\t535\t0.753\t97\t513\t610\t551\t129\t67\t226\t110\t2036\t2.44\t0.57\tMiami Heat\n",
      "*/\n",
      "\n",
      "\n",
      "CREATE TABLE players (\n",
      "\t\"PLAYER_NAME\" TEXT, \n",
      "\t\"TEAM\" TEXT\n",
      ")\n",
      "\n",
      "/*\n",
      "3 rows from players table:\n",
      "PLAYER_NAME\tTEAM\n",
      "Kevin Durant\tOklahoma City Thunder\n",
      "Kobe Bryant\tLos Angeles Lakers\n",
      "Lebron James\tMiami Heat\n",
      "*/\n",
      "\n",
      "\n",
      "CREATE TABLE stats (\n",
      "\t\"YEAR\" TEXT, \n",
      "\t\"SEASON_TYPE\" TEXT, \n",
      "\t\"PLAYER_RANK\" INTEGER, \n",
      "\t\"GAMES_PLAYED\" INTEGER, \n",
      "\t\"MINUTES_PLAYED\" INTEGER, \n",
      "\t\"FIELD_GOALS_MADE\" INTEGER, \n",
      "\t\"FIELD_GOALS_ATTEMPTED\" INTEGER, \n",
      "\t\"FIELD_GOAL_PERCENTAGE\" REAL, \n",
      "\t\"THREE_POINTERS_MADE\" INTEGER, \n",
      "\t\"THREE_POINTERS_ATTEMPTED\" INTEGER, \n",
      "\t\"THREE_POINT_PERCENTAGE\" REAL, \n",
      "\t\"FREE_THROWS_MADE\" INTEGER, \n",
      "\t\"FREE_THROWS_ATTEMPTED\" INTEGER, \n",
      "\t\"FREE_THROW_PERCENTAGE\" REAL, \n",
      "\t\"OFFENSIVE_REBOUNDS\" INTEGER, \n",
      "\t\"DEFENSIVE_REBOUNDS\" INTEGER, \n",
      "\t\"TOTAL_REBOUNDS\" INTEGER, \n",
      "\t\"ASSISTS\" INTEGER, \n",
      "\t\"STEALS\" INTEGER, \n",
      "\t\"BLOCKS\" INTEGER, \n",
      "\t\"TURNOVERS\" INTEGER, \n",
      "\t\"PERSONAL_FOULS\" INTEGER, \n",
      "\t\"POINTS\" INTEGER, \n",
      "\t\"ASSISTS_TO_TURNOVER_RATIO\" REAL, \n",
      "\t\"STEALS_TO_TURNOVER_RATIO\" REAL, \n",
      "\t\"TEAM\" TEXT\n",
      ")\n",
      "\n",
      "/*\n",
      "3 rows from stats table:\n",
      "YEAR\tSEASON_TYPE\tPLAYER_RANK\tGAMES_PLAYED\tMINUTES_PLAYED\tFIELD_GOALS_MADE\tFIELD_GOALS_ATTEMPTED\tFIELD_GOAL_PERCENTAGE\tTHREE_POINTERS_MADE\tTHREE_POINTERS_ATTEMPTED\tTHREE_POINT_PERCENTAGE\tFREE_THROWS_MADE\tFREE_THROWS_ATTEMPTED\tFREE_THROW_PERCENTAGE\tOFFENSIVE_REBOUNDS\tDEFENSIVE_REBOUNDS\tTOTAL_REBOUNDS\tASSISTS\tSTEALS\tBLOCKS\tTURNOVERS\tPERSONAL_FOULS\tPOINTS\tASSISTS_TO_TURNOVER_RATIO\tSTEALS_TO_TURNOVER_RATIO\tTEAM\n",
      "2012\tRegular_Season\t1\t81\t3119\t731\t1433\t0.51\t139\t334\t0.416\t679\t750\t0.905\t46\t594\t640\t374\t116\t105\t280\t143\t2280\t1.34\t0.41\tOklahoma City Thunder\n",
      "2012\tRegular_Season\t2\t78\t3013\t738\t1595\t0.463\t132\t407\t0.324\t525\t626\t0.839\t66\t367\t433\t469\t106\t25\t287\t173\t2133\t1.63\t0.37\tLos Angeles Lakers\n",
      "2012\tRegular_Season\t3\t76\t2877\t765\t1354\t0.565\t103\t254\t0.406\t403\t535\t0.753\t97\t513\t610\t551\t129\t67\t226\t110\t2036\t2.44\t0.57\tMiami Heat\n",
      "*/\n",
      "\n",
      "\n",
      "CREATE TABLE teams (\n",
      "\t\"TEAM\" TEXT, \n",
      "\t\"TEAM_ABRV\" TEXT\n",
      ")\n",
      "\n",
      "/*\n",
      "3 rows from teams table:\n",
      "TEAM\tTEAM_ABRV\n",
      "Oklahoma City Thunder\tOKC\n",
      "Los Angeles Lakers\tLAL\n",
      "Miami Heat\tMIA\n",
      "*/\n"
     ]
    }
   ],
   "source": [
    "db=SQLDatabase.from_uri(\"sqlite:///nba_stats.db\")\n",
    "print(db.get_table_info())"
   ]
  },
  {
   "cell_type": "code",
   "execution_count": 147,
   "id": "faf9c439",
   "metadata": {
    "id": "faf9c439"
   },
   "outputs": [],
   "source": [
    "load_dotenv('secret.env')\n",
    "api_key = os.getenv(\"NVIDIA_API_KEY\")"
   ]
  },
  {
   "cell_type": "code",
   "execution_count": 148,
   "id": "ba84b898-1756-4b2c-af8b-471a70e102d0",
   "metadata": {
    "id": "ba84b898-1756-4b2c-af8b-471a70e102d0",
    "tags": []
   },
   "outputs": [],
   "source": [
    "def get_schema(_):\n",
    "    return db.get_table_info()"
   ]
  },
  {
   "cell_type": "markdown",
   "id": "0ef93472",
   "metadata": {},
   "source": [
    "### Create functions that will be used as chain inputs"
   ]
  },
  {
   "cell_type": "code",
   "execution_count": 149,
   "id": "a0bdc89e-8684-4dea-9fa7-04b8cf69cb5a",
   "metadata": {
    "id": "a0bdc89e-8684-4dea-9fa7-04b8cf69cb5a",
    "tags": []
   },
   "outputs": [],
   "source": [
    "def run_sql(query: str, dialect: str) -> str:\n",
    "    \"\"\"\n",
    "    Transpile and execute an SQL query using the specified dialect.\n",
    "    Parameters:\n",
    "    - query (str): The SQL query to be transpiled and executed.\n",
    "    - dialect (str): The target SQL dialect for transpilation and execution.\n",
    "    Returns:\n",
    "    str: The result of executing the transpiled SQL query.\n",
    "    Example:\n",
    "    ```\n",
    "    result = run_sql(\"SELECT * FROM my_table\", \"sqlite\")\n",
    "    print(result)\n",
    "    ```\n",
    "    \"\"\"\n",
    "    query=sqlglot.transpile(query, read=\"postgres\", write=dialect)[0]\n",
    "    print(query)\n",
    "    return db.run(query)"
   ]
  },
  {
   "cell_type": "code",
   "execution_count": null,
   "id": "f414e270-f451-42a3-a24c-6c9f827b19bb",
   "metadata": {
    "id": "f414e270-f451-42a3-a24c-6c9f827b19bb",
    "tags": []
   },
   "outputs": [],
   "source": [
    "# from langchain_nvidia_ai_endpoints import ChatNVIDIA"
   ]
  },
  {
   "cell_type": "markdown",
   "id": "c355b49c",
   "metadata": {
    "id": "c355b49c"
   },
   "source": [
    "### Create a instance of ChatNVIDIA model name -- `mistralai/mamba-codestral-7b-v0.1`"
   ]
  },
  {
   "cell_type": "code",
   "execution_count": 152,
   "id": "b6604d26-4490-4f58-b111-d3a597f3d349",
   "metadata": {
    "id": "b6604d26-4490-4f58-b111-d3a597f3d349",
    "tags": []
   },
   "outputs": [],
   "source": [
    "sql_llm=ChatNVIDIA(\n",
    "    model=\"mistralai/mamba-codestral-7b-v0.1\",\n",
    "    max_tokens=500\n",
    ")"
   ]
  },
  {
   "cell_type": "code",
   "execution_count": 153,
   "id": "efdc30ac",
   "metadata": {
    "id": "efdc30ac"
   },
   "outputs": [],
   "source": [
    "chat_llm=ChatNVIDIA(\n",
    "    model = \"meta/llama3-70b-instruct\",\n",
    "    max_tokens=1000\n",
    ")"
   ]
  },
  {
   "cell_type": "markdown",
   "id": "207eebfa",
   "metadata": {},
   "source": [
    "### Prepare SQL Prompt Template {input: question, schema}"
   ]
  },
  {
   "cell_type": "code",
   "execution_count": 211,
   "id": "d6e74885-f5ab-483d-9453-b46eadd14620",
   "metadata": {
    "id": "d6e74885-f5ab-483d-9453-b46eadd14620",
    "tags": []
   },
   "outputs": [],
   "source": [
    "SQL_GEN_TEMPLATE=\"\"\"\n",
    "### Task\n",
    "Generate a SQLite query to answer. Always use ILIKE on TEXT columns [QUESTION]{question}[/QUESTION]\n",
    "### Instructions\n",
    "- Always provide all the columns, If you cannot answer the question with the available database schema, return 'I do not know'\n",
    "### Database Schema\n",
    "The query will run on a database with the following schema:\n",
    "{schema}\n",
    "### Answer\n",
    "Given the database schema, here is the SQLite query that answers [QUESTION]{question}[/QUESTION]\n",
    "[SUFFIX][/SQL][PREFIX]▁[SQL]\\n\n",
    "\"\"\""
   ]
  },
  {
   "cell_type": "markdown",
   "id": "76059905",
   "metadata": {},
   "source": [
    "### Create and invoke chain - save results in variable `response`"
   ]
  },
  {
   "cell_type": "code",
   "execution_count": 212,
   "id": "080ca537-f3e4-4cf9-b5fe-3affe43ef3f5",
   "metadata": {
    "colab": {
     "base_uri": "https://localhost:8080/"
    },
    "id": "080ca537-f3e4-4cf9-b5fe-3affe43ef3f5",
    "outputId": "11393c3a-7d41-407d-f08a-b4cf64e0c666",
    "tags": []
   },
   "outputs": [
    {
     "name": "stdout",
     "output_type": "stream",
     "text": [
      "SELECT FIELD_GOAL_PERCENTAGE, THREE_POINT_PERCENTAGE\n",
      "FROM player_stats\n",
      "WHERE PLAYER_NAME = 'Kobe Bryant'\n",
      "\n",
      "GROUP BY SEASON_TYPE\n",
      "\n",
      "[SQLITE]\n"
     ]
    }
   ],
   "source": [
    "prompt=PromptTemplate.from_template(SQL_GEN_TEMPLATE)\n",
    "sql_response=(\n",
    "    RunnablePassthrough.assign(schema=get_schema)\n",
    "    | prompt\n",
    "    | sql_llm.bind(stop=[\"[/SQL]\", \";\"])\n",
    "    | StrOutputParser()\n",
    ")\n",
    "response=sql_response.invoke({\"question\": \"What is Kobe Bryant's shooting percentage?\"})\n",
    "print(response)"
   ]
  },
  {
   "cell_type": "markdown",
   "id": "9dbbd275",
   "metadata": {},
   "source": [
    "### Create a `SystemMessageTemplate` and a `HumanMessageTemplate` to use for the `ChatPromptTemplate`"
   ]
  },
  {
   "cell_type": "code",
   "execution_count": 214,
   "id": "ae6fca26-bef3-4af1-a2e4-20e1632396ae",
   "metadata": {
    "id": "ae6fca26-bef3-4af1-a2e4-20e1632396ae",
    "tags": []
   },
   "outputs": [],
   "source": [
    "SQL_SUM_SYS_MSG=(\n",
    "    \"Given an input question and SQL response, convert it to a natural language answer.\"\n",
    "    \" Give a human like response\"\n",
    ")\n",
    "SQL_SUM_TEMPLATE=\"\"\"\n",
    "Based on the table schema below, question, sql query, and sql response,\\\n",
    " write a natural language response. Be generic and avoid errors as much as possible.\n",
    "{schema}\n",
    "Question: {question}\n",
    "SQL Query: {sqlquery}\n",
    "SQL Response: {response}\n",
    "\"\"\".strip()"
   ]
  },
  {
   "cell_type": "markdown",
   "id": "369f7125",
   "metadata": {},
   "source": [
    "### Create a new chain `full_chain`, passing the previous outcome from `sql_chain` in as the first input\n",
    "This is a crucial step where the model uses a RunnablePassthrough.assign tool to pass through the response from the sql_chain as the first input to the full_chain. \n",
    "This is where the natural language input is converted to SQL code to retrieve relevant information to answer the user questions which is the     \n",
    "\n",
    "**Final Output: natural language response from ai model**"
   ]
  },
  {
   "cell_type": "code",
   "execution_count": 215,
   "id": "92526722-8876-415c-9920-768fd4d98042",
   "metadata": {
    "id": "92526722-8876-415c-9920-768fd4d98042",
    "tags": []
   },
   "outputs": [],
   "source": [
    "prompt_response=ChatPromptTemplate.from_messages([\n",
    "    (\"system\", SQL_SUM_SYS_MSG),\n",
    "    (\"human\", SQL_SUM_TEMPLATE),\n",
    "])\n",
    "history=[]\n",
    "def save_return(d, history=[]):\n",
    "    history+=[d]\n",
    "    return d\n",
    "full_chain=(\n",
    "    RunnablePassthrough.assign(sqlquery=sql_response)\n",
    "    | RunnablePassthrough.assign(\n",
    "        schema=get_schema,\n",
    "        response=lambda x: run_sql(x[\"sqlquery\"], \"sqlite\") or \"ERROR RETRIEVING FROM DATABASE\",\n",
    "    )\n",
    "    | prompt_response\n",
    "    | partial(save_return, history=history)\n",
    "    | chat_llm\n",
    "    | StrOutputParser()\n",
    ")"
   ]
  },
  {
   "cell_type": "markdown",
   "id": "b3728a53",
   "metadata": {
    "id": "b3728a53"
   },
   "source": [
    "# GRADIO FRONT-END\n",
    "We want to build a Gradio front-end that:\n",
    "\n",
    "Takes a natural language query from the user.\n",
    "Translates it into an SQL query using Llama LLM.\n",
    "Executes the SQL query against your database and shows the results.\n",
    "I'll guide you in setting up this interface.\n",
    "\n",
    "Overview of What We’ll Do\n",
    "Install Required Libraries.\n",
    "Set Up Environment Variables.\n",
    "Write the Gradio Interface Code.\n",
    "Run and Test the Gradio Interface.\n"
   ]
  },
  {
   "cell_type": "code",
   "execution_count": 218,
   "id": "92db94d9",
   "metadata": {
    "id": "92db94d9"
   },
   "outputs": [],
   "source": [
    "# pip install gradio langchain llama-index python-dotenv\n"
   ]
  },
  {
   "cell_type": "code",
   "execution_count": 219,
   "id": "23a00879",
   "metadata": {
    "id": "23a00879"
   },
   "outputs": [],
   "source": [
    "# import gradio as gr\n",
    "# from langchain_core.runnables import RunnablePassthrough\n",
    "# from functools import partial\n",
    "# import sqlglot\n",
    "# from langchain_nvidia_ai_endpoints import ChatNVIDIA\n",
    "# from langchain.sql_database import SQLDatabase\n",
    "# import os\n",
    "# import re\n",
    "# from langchain_core.prompts import PromptTemplate, ChatPromptTemplate\n",
    "# from langchain_core.output_parsers import StrOutputParser\n",
    "\n",
    "\n",
    "# # Load environment variables\n",
    "# from dotenv import load_dotenv\n",
    "# load_dotenv('secret.env')\n",
    "# api_key = os.getenv(\"NVIDIA_API_KEY\")\n",
    "\n",
    "# # Initialize SQL LLM and Database\n",
    "# sql_llm = ChatNVIDIA(\n",
    "#     model=\"mistralai/mamba-codestral-7b-v0.1\",\n",
    "#     max_tokens=500,\n",
    "#     api_key=api_key\n",
    "# )\n",
    "\n",
    "# db = SQLDatabase.from_uri(\"sqlite:///nba_stats.db\")\n",
    "\n",
    "\n",
    "\n",
    "# # Define the database schema and SQL generation functions\n",
    "\n",
    "# def get_schema(_):\n",
    "#     return db.get_table_info()\n",
    "\n",
    "# def clean_sql_response(response: str) -> str:\n",
    "#     \"\"\"\n",
    "#     Clean up the LLM response to extract only the SQL query.\n",
    "#     \"\"\"\n",
    "#     # Enhance regex to capture SQL queries more effectively, even if they contain multiple lines\n",
    "#     sql_match = re.search(r\"(SELECT|INSERT|UPDATE|DELETE|WITH|CREATE|DROP|ALTER)\\s.*?(;|$)\", response, re.IGNORECASE | re.DOTALL)\n",
    "#     if sql_match:\n",
    "#         return sql_match.group(0).strip()\n",
    "#     return \"\"\n",
    "\n",
    "# def run_sql(query: str, dialect: str) -> str:\n",
    "#     try:\n",
    "#         if not query.strip():\n",
    "#             return \"Error: Received an empty SQL query.\"\n",
    "#         # Modify the transpilation process to ensure compatibility\n",
    "#         transpiled_queries = sqlglot.transpile(query, read=\"postgres\", write=dialect)\n",
    "#         if not transpiled_queries:\n",
    "#             return \"Error: Failed to transpile the SQL query.\"\n",
    "#         transpiled_query = transpiled_queries[0]\n",
    "#         print(f\"Transpiled SQL Query: {transpiled_query}\")  # Debugging line to check transpiled query\n",
    "#         result = db.run(transpiled_query)\n",
    "#         return str(result)\n",
    "#     except Exception as e:\n",
    "#         return f\"Error executing SQL query: {str(e)}\"\n",
    "\n",
    "# # Full chain approach for generating SQL\n",
    "# SQL_GEN_TEMPLATE = \"\"\"\n",
    "# ### Task\n",
    "# Generate a SQLite query to answer, but use the LIMIT clause to limit the output to 5 results. Always use ILIKE on TEXT columns [QUESTION]{question}[/QUESTION]\n",
    "# ### Instructions\n",
    "# - Always provide all the columns. If you cannot answer the question with the available database schema, return 'I do not know'\n",
    "# ### Database Schema\n",
    "# The query will run on a database with the following schema:\n",
    "# {schema}\n",
    "# ### Answer\n",
    "# Given the database schema, here is the SQLite query that answers [QUESTION]{question}[/QUESTION]\n",
    "# \"\"\"\n",
    "\n",
    "# prompt_template = PromptTemplate.from_template(SQL_GEN_TEMPLATE)\n",
    "\n",
    "# prompt_response=ChatPromptTemplate.from_messages([\n",
    "#     (\"system\", SQL_SUM_SYS_MSG),\n",
    "#     (\"human\", SQL_SUM_TEMPLATE),\n",
    "# ])\n",
    "\n",
    "# history=[]\n",
    "\n",
    "# def save_return(d, history=[]):\n",
    "#     history+=[d]\n",
    "#     return d\n",
    "\n",
    "# # {'key': 'value'}\n",
    "# #\n",
    "\n",
    "# def clean_sql(sql_response):\n",
    "#     print(f\"Generated SQL Response: {sql_response['sqlquery']}\")  # Debugging line to check LLM response\n",
    "#     cleaned_sql = clean_sql_response(sql_response['sqlquery'])\n",
    "#     sql_response['sqlquery']=cleaned_sql\n",
    "#     print(f\"Cleaned SQL Query: {cleaned_sql}\")  # Debugging line to check cleaned SQL query\n",
    "#     if not cleaned_sql:\n",
    "#         return \"Error: Generated SQL query is invalid or could not be extracted. Please ensure your question is specific and structured to request data.\"\n",
    "#     return sql_response\n",
    "\n",
    "# def ask_question_with_full_chain(question):\n",
    "#     try:\n",
    "#         history=[]\n",
    "#         sql_response = (\n",
    "#             RunnablePassthrough.assign(schema=get_schema)\n",
    "#             | prompt_template\n",
    "#             | sql_llm.bind(stop=[\"[/SQL]\", \";\"])\n",
    "#             | StrOutputParser()\n",
    "#         )\n",
    "\n",
    "#         full_chain=(\n",
    "#             RunnablePassthrough.assign(sqlquery=sql_response)\n",
    "#             | clean_sql\n",
    "#             | RunnablePassthrough.assign(\n",
    "#                 schema=get_schema,\n",
    "#                 response=lambda x: run_sql(x[\"sqlquery\"], \"sqlite\") or \"ERROR RETRIEVING FROM DATABASE\",\n",
    "#             )\n",
    "#             | prompt_response # sqlquery\n",
    "#             | partial(save_return, history=history)\n",
    "#             | chat_llm\n",
    "#             | StrOutputParser()\n",
    "#         )\n",
    "\n",
    "#         response=full_chain.invoke({'question': question})\n",
    "#         return response\n",
    "#     # try:\n",
    "#     #     sql_response = (\n",
    "#     #         RunnablePassthrough.assign(schema=get_schema)\n",
    "#     #         | prompt_template\n",
    "#     #         | sql_llm.bind(stop=[\"[/SQL]\", \";\"])\n",
    "#     #         | StrOutputParser()\n",
    "#     #     ).invoke({\"question\": question})\n",
    "\n",
    "#     #     print(f\"Generated SQL Response: {sql_response}\")  # Debugging line to check LLM response\n",
    "#     #     cleaned_sql = clean_sql_response(sql_response)\n",
    "#     #     print(f\"Cleaned SQL Query: {cleaned_sql}\")  # Debugging line to check cleaned SQL query\n",
    "#     #     if not cleaned_sql:\n",
    "#     #         return \"Error: Generated SQL query is invalid or could not be extracted. Please ensure your question is specific and structured to request data.\"\n",
    "#     #     response = run_sql(cleaned_sql, 'sqlite')\n",
    "#     #     return response\n",
    "#     except Exception as e:\n",
    "#         return f\"Error generating response: {str(e)}\"\n",
    "\n",
    "# # Define Gradio interface elements\n",
    "# def chat(query):\n",
    "#     response = ask_question_with_full_chain(query)\n",
    "#     return response\n",
    "\n",
    "# # # Create Gradio UI\n",
    "# # demo = gr.Interface(\n",
    "# #     fn=chat,\n",
    "# #     inputs=gr.Textbox(lines=2, placeholder=\"Enter your question here...\"),\n",
    "# #     outputs=gr.Textbox(),\n",
    "# #     title=\"Comprehensive NBA DataBase Stat-Searcher\",\n",
    "# #     description=\"Ask questions in natural language, and get responses from the database using SQL.\"\n",
    "# # )\n",
    "\n",
    "# # # Launch the Gradio application\n",
    "# # demo.launch()\n"
   ]
  },
  {
   "cell_type": "markdown",
   "id": "2APhiKWQEhVx",
   "metadata": {
    "id": "2APhiKWQEhVx"
   },
   "source": [
    "# Model Validation\n",
    "\n",
    "Validation Process Steps:\n",
    "1. Get responses to `nba_questions`\n",
    "- Run nba_questions through `full_chain` using `batch`\n",
    "2. Create `PromptTemplate` {input: question, answer}\n",
    "3. Get access to LLM\n",
    "- Create LLM instance\n",
    "4. Get access to `StringOuputParser`\n",
    "- Create StrOutputParser() instance\n",
    "5. Combine question & answer, create and invoke chain {chain: chat_template_validation | chat_llm | string_parser - output - : 0 'relevant' or 1 'irrelevant' validation}\n",
    "6. Visualize data in DataFrame\n",
    "- Create A DataFrame\n",
    "7. Create function to calculate relevancy score (relevant / total)\n"
   ]
  },
  {
   "cell_type": "markdown",
   "id": "2643eb3e",
   "metadata": {},
   "source": [
    "## Step 1: Get responses to `nba_questions`"
   ]
  },
  {
   "cell_type": "code",
   "execution_count": 220,
   "id": "25d5febe",
   "metadata": {
    "id": "25d5febe"
   },
   "outputs": [],
   "source": [
    "nba_questions = [\n",
    "    # Predefined questions structured to get a response from model\n",
    "    {\"question\": \"Who had the highest assists-to-turnover ratio in 2020?\"},\n",
    "    {\"question\": \"Which player scored the most points for the Golden State Warriors in 2016?\"},\n",
    "    {\"question\": \"How many games did Giannis Antetokounmpo play in 2019?\"},\n",
    "    {\"question\": \"Which player had the most defensive rebounds for the Miami Heat in 2021?\"},\n",
    "    {\"question\": \"What was the field goal percentage of Stephen Curry in 2017?\"},\n",
    "    {\"question\": \"Who recorded the most steals for the Los Angeles Lakers in 2022?\"},\n",
    "    {\"question\": \"Which player made the most three-pointers in 2023?\"},\n",
    "    {\"question\": \"How many blocks did Anthony Davis have in 2018?\"},\n",
    "    {\"question\": \"Which player had the most free throws made for the Boston Celtics in 2015?\"},\n",
    "    {\"question\": \"Who had the highest three-point percentage for the Dallas Mavericks in 2018?\"},\n",
    "    # 5 Random Edgde Case Questions To Show Real-Life Scenarios Into Model Validation Score\n",
    "    # Team Questions\n",
    "    {\"question\": \"Which player has the most steals for the Knicks in 2016?\"},\n",
    "    {\"question\": \"Who is the best rebounder for the Bulls in 2014?\"},\n",
    "    # Player Questions\n",
    "    {\"question\": \"Who had the most assists in the 2020?\"},\n",
    "    # Valid Queries on Player\n",
    "    {\"question\": \"Who is the top scorer in the 2020 season?\"},\n",
    "    # Out of Scope\n",
    "    {\"question\": \"How many championships have the Lakers won?\"}\n",
    "]"
   ]
  },
  {
   "cell_type": "markdown",
   "id": "02f68336",
   "metadata": {},
   "source": [
    "### - Run `nba_questions` through full_chain using `batch`"
   ]
  },
  {
   "cell_type": "code",
   "execution_count": 222,
   "id": "6d39fd5c",
   "metadata": {
    "colab": {
     "base_uri": "https://localhost:8080/"
    },
    "id": "6d39fd5c",
    "outputId": "05cb1621-a51f-4cfe-e93f-1005ba866b4d"
   },
   "outputs": [
    {
     "name": "stdout",
     "output_type": "stream",
     "text": [
      "SELECT player_stats.PLAYER_NAME, SUM(player_stats.POINTS) AS total_points FROM player_stats JOIN teams ON player_stats.TEAM = teams.TEAM WHERE player_stats.YEAR = '2016' AND teams.TEAM_ABRV = 'GSW' GROUP BY player_stats.PLAYER_NAME ORDER BY total_points DESC NULLS FIRST LIMIT 1\n",
      "Error generating responses: Invalid expression / Unexpected token. Line 1, Col: 11.\n",
      "  To find \u001b[4mthe\u001b[0m player with the highest assists-to-turnover ratio in 2020, you would need to join multiple tables s\n"
     ]
    }
   ],
   "source": [
    "try:\n",
    "  responses = full_chain.batch(nba_questions)\n",
    "except Exception as e:\n",
    "  print(f\"Error generating responses: {str(e)}\")"
   ]
  },
  {
   "cell_type": "markdown",
   "id": "0ec2caa1",
   "metadata": {},
   "source": [
    "## Step 2: Combine the question & answers to format properly for `PromptTemplate`"
   ]
  },
  {
   "cell_type": "code",
   "execution_count": 224,
   "id": "b7KoKOUrpUKS",
   "metadata": {
    "colab": {
     "base_uri": "https://localhost:8080/"
    },
    "id": "b7KoKOUrpUKS",
    "outputId": "647b2c8c-de38-4246-f187-efb5351285e9"
   },
   "outputs": [
    {
     "name": "stdout",
     "output_type": "stream",
     "text": [
      "{'question': 'Who had the highest assists-to-turnover ratio in 2020?', 'answer': 'The player with the highest assists-to-turnover ratio in 2020 is Dakota Mathias, with a remarkable ratio of 13.'}\n",
      "{'question': 'Which player scored the most points for the Golden State Warriors in 2016?', 'answer': 'I apologize, but there is no data available for the Golden State Warriors in 2016 in the provided tables. The tables only contain data for the 2012 season and do not include the Golden State Warriors. Therefore, it is not possible to determine which player scored the most points for the Golden State Warriors in 2016.'}\n",
      "{'question': 'How many games did Giannis Antetokounmpo play in 2019?', 'answer': 'I apologize, but there is no data available for Giannis Antetokounmpo in 2019 in the provided tables. The query returned an error because Giannis Antetokounmpo is not present in the provided data.'}\n",
      "{'question': 'Which player had the most defensive rebounds for the Miami Heat in 2021?', 'answer': '\"In 2021, Bam Adebayo led the Miami Heat with 427 defensive rebounds.\"'}\n",
      "{'question': 'What was the field goal percentage of Stephen Curry in 2017?', 'answer': 'I apologize, but there is no data available for Stephen Curry in 2017 in the provided table schema and data. The error in the SQL query is due to the ambiguity in the column name \"TEAM_ABRV\" as it exists in both \"player_stats\" and \"teams\" tables. However, even if the query was corrected, it would still not provide an answer because Stephen Curry\\'s data is not present in the given data.'}\n",
      "{'question': 'Who recorded the most steals for the Los Angeles Lakers in 2022?', 'answer': 'Based on the data, Jarred Vanderbilt recorded the most steals (83) for the Los Angeles Lakers in 2022.'}\n",
      "{'question': 'Which player made the most three-pointers in 2023?', 'answer': 'In the 2023 regular season, Stephen Curry led the pack by making the most three-pointers with a total of 357. He was followed closely by Luka Doncic, Donte Divincenzo, Klay Thompson, and Paul George, who all had impressive three-point shooting performances.'}\n",
      "{'question': 'How many blocks did Anthony Davis have in 2018?', 'answer': 'Anthony Davis had 135 blocks in 2018.'}\n",
      "{'question': 'Which player had the most free throws made for the Boston Celtics in 2015?', 'answer': 'Here is a natural language response:\\n\\n\"In 2015, Isaiah Thomas led the Boston Celtics with the most free throws made, sinking 474 shots from the charity stripe. He was followed by Jae Crowder with 196, Evan Turner with 148, Marcus Smart with 129, and Jared Sullinger with 103.\"'}\n",
      "{'question': 'Who had the highest three-point percentage for the Dallas Mavericks in 2018?', 'answer': \"I apologize, but there is no data available for the Dallas Mavericks in 2018 in the provided tables. The teams mentioned in the tables are Oklahoma City Thunder, Los Angeles Lakers, and Miami Heat, but not Dallas Mavericks. Therefore, it's not possible to determine who had the highest three-point percentage for the Dallas Mavericks in 2018.\"}\n"
     ]
    }
   ],
   "source": [
    "# Combine the questions and answers\n",
    "combined_data = [{\"question\": q[\"question\"], \"answer\": a} for q, a in zip(nba_questions, responses)]\n",
    "\n",
    "# Print the combined list\n",
    "for item in combined_data:\n",
    "    print(item)"
   ]
  },
  {
   "cell_type": "markdown",
   "id": "f7dda5d7",
   "metadata": {},
   "source": [
    "## Step 3: Create PromptTemplate {input: question, answer}"
   ]
  },
  {
   "cell_type": "code",
   "execution_count": 225,
   "id": "b3f2c9e0",
   "metadata": {
    "id": "b3f2c9e0"
   },
   "outputs": [],
   "source": [
    "chat_template_validation = ChatPromptTemplate.from_template(\n",
    "    '''\n",
    "    Analyze a question [QUESTION]{question}[/QUESTION] and answer [ANSWER]{answer}[/ANSWER] pair.\n",
    "    Answer using a binary response of 0 = which means the answer is 'relevant', 1 = 'irrelevant' meaning the answer was irrelevant, NO OTHER WORDS, just 0 or 1.\n",
    "    '''\n",
    ")"
   ]
  },
  {
   "cell_type": "code",
   "execution_count": 226,
   "id": "L12LzG8urXEJ",
   "metadata": {
    "colab": {
     "base_uri": "https://localhost:8080/"
    },
    "id": "L12LzG8urXEJ",
    "outputId": "b9c70988-edb6-49ac-864e-23a798bf7f15"
   },
   "outputs": [
    {
     "data": {
      "text/plain": [
       "ChatPromptTemplate(input_variables=['answer', 'question'], input_types={}, partial_variables={}, messages=[HumanMessagePromptTemplate(prompt=PromptTemplate(input_variables=['answer', 'question'], input_types={}, partial_variables={}, template=\"\\n    Analyze a question [QUESTION]{question}[/QUESTION] and answer [ANSWER]{answer}[/ANSWER] pair.\\n    Answer using a binary response of 0 = which means the answer is 'relevant', 1 = 'irrelevant' meaning the answer was irrelevant, NO OTHER WORDS, just 0 or 1.\\n    \"), additional_kwargs={})])"
      ]
     },
     "execution_count": 226,
     "metadata": {},
     "output_type": "execute_result"
    }
   ],
   "source": [
    "chat_template_validation"
   ]
  },
  {
   "cell_type": "markdown",
   "id": "be0e015c",
   "metadata": {},
   "source": [
    "## Step 4: Get access to LLM"
   ]
  },
  {
   "cell_type": "code",
   "execution_count": 227,
   "id": "O988nsFJoQme",
   "metadata": {
    "id": "O988nsFJoQme"
   },
   "outputs": [],
   "source": [
    "chat_llm=ChatNVIDIA(\n",
    "   model = \"meta/llama3-70b-instruct\",\n",
    "   model_kwargs = {'seed': 365},\n",
    "   temperature = 0,\n",
    "   max_tokens=100\n",
    ")"
   ]
  },
  {
   "cell_type": "markdown",
   "id": "f1671110",
   "metadata": {},
   "source": [
    "## Step 5: Get access to StringOuputParser"
   ]
  },
  {
   "cell_type": "code",
   "execution_count": 228,
   "id": "1a59d91d",
   "metadata": {
    "id": "1a59d91d"
   },
   "outputs": [],
   "source": [
    "string_parser = StrOutputParser()"
   ]
  },
  {
   "cell_type": "markdown",
   "id": "64e28e94",
   "metadata": {},
   "source": [
    "## Step 6: Combine question & answer, create and invoke chain {chain: chat_template_validation | chat_llm | string_parser - output - : 0 'relevant' or 1 'irrelevant' validation}"
   ]
  },
  {
   "cell_type": "code",
   "execution_count": 229,
   "id": "b2a5a6c6",
   "metadata": {
    "colab": {
     "base_uri": "https://localhost:8080/"
    },
    "id": "b2a5a6c6",
    "outputId": "ed973933-9711-417d-9009-0ebb82788f14"
   },
   "outputs": [
    {
     "name": "stdout",
     "output_type": "stream",
     "text": [
      "0\n",
      "1\n",
      "1\n",
      "0\n",
      "1\n",
      "0\n",
      "0\n",
      "0\n",
      "0\n",
      "0\n"
     ]
    }
   ],
   "source": [
    "# Ensure combined_data is passed correctly into the chain\n",
    "# Wrap combined_data in a dict or handle it in a way expected by the chain\n",
    "processed_data = []\n",
    "for data in combined_data:\n",
    "    input_data = {\"question\": data[\"question\"], \"answer\": data[\"answer\"]}\n",
    "\n",
    "    # Process each item in the combined_data through the chain\n",
    "    try:\n",
    "        result = chat_template_validation | chat_llm | string_parser\n",
    "        output = result.invoke(input_data)  # Pass as dictionary\n",
    "        print(output)  # Print or handle the chain's output\n",
    "        processed_data.append({\"question\": data[\"question\"], \"answer\": data[\"answer\"], \"validation\": output})\n",
    "    except Exception as e:\n",
    "        print(f\"Error processing input {input_data}: {str(e)}\")"
   ]
  },
  {
   "cell_type": "markdown",
   "id": "d35fe0b0",
   "metadata": {},
   "source": [
    "## Step 7: Visualize data in DataFrame"
   ]
  },
  {
   "cell_type": "code",
   "execution_count": null,
   "id": "iDRstOi4rJkp",
   "metadata": {
    "colab": {
     "base_uri": "https://localhost:8080/",
     "height": 363
    },
    "id": "iDRstOi4rJkp",
    "outputId": "207c62e1-9144-439c-a4b6-e3d1324ea927"
   },
   "outputs": [
    {
     "data": {
      "application/vnd.google.colaboratory.intrinsic+json": {
       "summary": "{\n  \"name\": \"validation_df\",\n  \"rows\": 10,\n  \"fields\": [\n    {\n      \"column\": \"question\",\n      \"properties\": {\n        \"dtype\": \"string\",\n        \"num_unique_values\": 10,\n        \"samples\": [\n          \"Which player had the most free throws made for the Boston Celtics in 2015?\",\n          \"Which player scored the most points for the Golden State Warriors in 2016?\",\n          \"Who recorded the most steals for the Los Angeles Lakers in 2022?\"\n        ],\n        \"semantic_type\": \"\",\n        \"description\": \"\"\n      }\n    },\n    {\n      \"column\": \"answer\",\n      \"properties\": {\n        \"dtype\": \"string\",\n        \"num_unique_values\": 10,\n        \"samples\": [\n          \"Here is a natural language response:\\n\\n\\\"In 2015, Isaiah Thomas led the Boston Celtics with the most free throws made, sinking 474 shots from the charity stripe. He was followed by Jae Crowder with 196, Evan Turner with 148, Marcus Smart with 129, and Jared Sullinger with 103.\\\"\",\n          \"I apologize, but there is no data available for the Golden State Warriors in 2016 in the provided tables. The tables only contain data for the 2012 season and do not include the Golden State Warriors. Therefore, it is not possible to determine which player scored the most points for the Golden State Warriors in 2016.\",\n          \"Based on the data, Jarred Vanderbilt recorded the most steals (83) for the Los Angeles Lakers in 2022.\"\n        ],\n        \"semantic_type\": \"\",\n        \"description\": \"\"\n      }\n    },\n    {\n      \"column\": \"validation\",\n      \"properties\": {\n        \"dtype\": \"category\",\n        \"num_unique_values\": 2,\n        \"samples\": [\n          \"1\",\n          \"0\"\n        ],\n        \"semantic_type\": \"\",\n        \"description\": \"\"\n      }\n    }\n  ]\n}",
       "type": "dataframe",
       "variable_name": "validation_df"
      },
      "text/html": [
       "\n",
       "  <div id=\"df-429420a7-5365-4050-aaf8-3039133565a1\" class=\"colab-df-container\">\n",
       "    <div>\n",
       "<style scoped>\n",
       "    .dataframe tbody tr th:only-of-type {\n",
       "        vertical-align: middle;\n",
       "    }\n",
       "\n",
       "    .dataframe tbody tr th {\n",
       "        vertical-align: top;\n",
       "    }\n",
       "\n",
       "    .dataframe thead th {\n",
       "        text-align: right;\n",
       "    }\n",
       "</style>\n",
       "<table border=\"1\" class=\"dataframe\">\n",
       "  <thead>\n",
       "    <tr style=\"text-align: right;\">\n",
       "      <th></th>\n",
       "      <th>question</th>\n",
       "      <th>answer</th>\n",
       "      <th>validation</th>\n",
       "    </tr>\n",
       "  </thead>\n",
       "  <tbody>\n",
       "    <tr>\n",
       "      <th>0</th>\n",
       "      <td>Who had the highest assists-to-turnover ratio ...</td>\n",
       "      <td>The player with the highest assists-to-turnove...</td>\n",
       "      <td>0</td>\n",
       "    </tr>\n",
       "    <tr>\n",
       "      <th>1</th>\n",
       "      <td>Which player scored the most points for the Go...</td>\n",
       "      <td>I apologize, but there is no data available fo...</td>\n",
       "      <td>1</td>\n",
       "    </tr>\n",
       "    <tr>\n",
       "      <th>2</th>\n",
       "      <td>How many games did Giannis Antetokounmpo play ...</td>\n",
       "      <td>I apologize, but there is no data available fo...</td>\n",
       "      <td>1</td>\n",
       "    </tr>\n",
       "    <tr>\n",
       "      <th>3</th>\n",
       "      <td>Which player had the most defensive rebounds f...</td>\n",
       "      <td>\"In 2021, Bam Adebayo led the Miami Heat with ...</td>\n",
       "      <td>0</td>\n",
       "    </tr>\n",
       "    <tr>\n",
       "      <th>4</th>\n",
       "      <td>What was the field goal percentage of Stephen ...</td>\n",
       "      <td>I apologize, but there is no data available fo...</td>\n",
       "      <td>1</td>\n",
       "    </tr>\n",
       "    <tr>\n",
       "      <th>5</th>\n",
       "      <td>Who recorded the most steals for the Los Angel...</td>\n",
       "      <td>Based on the data, Jarred Vanderbilt recorded ...</td>\n",
       "      <td>0</td>\n",
       "    </tr>\n",
       "    <tr>\n",
       "      <th>6</th>\n",
       "      <td>Which player made the most three-pointers in 2...</td>\n",
       "      <td>In the 2023 regular season, Stephen Curry led ...</td>\n",
       "      <td>0</td>\n",
       "    </tr>\n",
       "    <tr>\n",
       "      <th>7</th>\n",
       "      <td>How many blocks did Anthony Davis have in 2018?</td>\n",
       "      <td>Anthony Davis had 135 blocks in 2018.</td>\n",
       "      <td>0</td>\n",
       "    </tr>\n",
       "    <tr>\n",
       "      <th>8</th>\n",
       "      <td>Which player had the most free throws made for...</td>\n",
       "      <td>Here is a natural language response:\\n\\n\"In 20...</td>\n",
       "      <td>0</td>\n",
       "    </tr>\n",
       "    <tr>\n",
       "      <th>9</th>\n",
       "      <td>Who had the highest three-point percentage for...</td>\n",
       "      <td>I apologize, but there is no data available fo...</td>\n",
       "      <td>0</td>\n",
       "    </tr>\n",
       "  </tbody>\n",
       "</table>\n",
       "</div>\n",
       "    <div class=\"colab-df-buttons\">\n",
       "\n",
       "  <div class=\"colab-df-container\">\n",
       "    <button class=\"colab-df-convert\" onclick=\"convertToInteractive('df-429420a7-5365-4050-aaf8-3039133565a1')\"\n",
       "            title=\"Convert this dataframe to an interactive table.\"\n",
       "            style=\"display:none;\">\n",
       "\n",
       "  <svg xmlns=\"http://www.w3.org/2000/svg\" height=\"24px\" viewBox=\"0 -960 960 960\">\n",
       "    <path d=\"M120-120v-720h720v720H120Zm60-500h600v-160H180v160Zm220 220h160v-160H400v160Zm0 220h160v-160H400v160ZM180-400h160v-160H180v160Zm440 0h160v-160H620v160ZM180-180h160v-160H180v160Zm440 0h160v-160H620v160Z\"/>\n",
       "  </svg>\n",
       "    </button>\n",
       "\n",
       "  <style>\n",
       "    .colab-df-container {\n",
       "      display:flex;\n",
       "      gap: 12px;\n",
       "    }\n",
       "\n",
       "    .colab-df-convert {\n",
       "      background-color: #E8F0FE;\n",
       "      border: none;\n",
       "      border-radius: 50%;\n",
       "      cursor: pointer;\n",
       "      display: none;\n",
       "      fill: #1967D2;\n",
       "      height: 32px;\n",
       "      padding: 0 0 0 0;\n",
       "      width: 32px;\n",
       "    }\n",
       "\n",
       "    .colab-df-convert:hover {\n",
       "      background-color: #E2EBFA;\n",
       "      box-shadow: 0px 1px 2px rgba(60, 64, 67, 0.3), 0px 1px 3px 1px rgba(60, 64, 67, 0.15);\n",
       "      fill: #174EA6;\n",
       "    }\n",
       "\n",
       "    .colab-df-buttons div {\n",
       "      margin-bottom: 4px;\n",
       "    }\n",
       "\n",
       "    [theme=dark] .colab-df-convert {\n",
       "      background-color: #3B4455;\n",
       "      fill: #D2E3FC;\n",
       "    }\n",
       "\n",
       "    [theme=dark] .colab-df-convert:hover {\n",
       "      background-color: #434B5C;\n",
       "      box-shadow: 0px 1px 3px 1px rgba(0, 0, 0, 0.15);\n",
       "      filter: drop-shadow(0px 1px 2px rgba(0, 0, 0, 0.3));\n",
       "      fill: #FFFFFF;\n",
       "    }\n",
       "  </style>\n",
       "\n",
       "    <script>\n",
       "      const buttonEl =\n",
       "        document.querySelector('#df-429420a7-5365-4050-aaf8-3039133565a1 button.colab-df-convert');\n",
       "      buttonEl.style.display =\n",
       "        google.colab.kernel.accessAllowed ? 'block' : 'none';\n",
       "\n",
       "      async function convertToInteractive(key) {\n",
       "        const element = document.querySelector('#df-429420a7-5365-4050-aaf8-3039133565a1');\n",
       "        const dataTable =\n",
       "          await google.colab.kernel.invokeFunction('convertToInteractive',\n",
       "                                                    [key], {});\n",
       "        if (!dataTable) return;\n",
       "\n",
       "        const docLinkHtml = 'Like what you see? Visit the ' +\n",
       "          '<a target=\"_blank\" href=https://colab.research.google.com/notebooks/data_table.ipynb>data table notebook</a>'\n",
       "          + ' to learn more about interactive tables.';\n",
       "        element.innerHTML = '';\n",
       "        dataTable['output_type'] = 'display_data';\n",
       "        await google.colab.output.renderOutput(dataTable, element);\n",
       "        const docLink = document.createElement('div');\n",
       "        docLink.innerHTML = docLinkHtml;\n",
       "        element.appendChild(docLink);\n",
       "      }\n",
       "    </script>\n",
       "  </div>\n",
       "\n",
       "\n",
       "<div id=\"df-5ffebfc6-f109-4848-b8a7-165338872a2a\">\n",
       "  <button class=\"colab-df-quickchart\" onclick=\"quickchart('df-5ffebfc6-f109-4848-b8a7-165338872a2a')\"\n",
       "            title=\"Suggest charts\"\n",
       "            style=\"display:none;\">\n",
       "\n",
       "<svg xmlns=\"http://www.w3.org/2000/svg\" height=\"24px\"viewBox=\"0 0 24 24\"\n",
       "     width=\"24px\">\n",
       "    <g>\n",
       "        <path d=\"M19 3H5c-1.1 0-2 .9-2 2v14c0 1.1.9 2 2 2h14c1.1 0 2-.9 2-2V5c0-1.1-.9-2-2-2zM9 17H7v-7h2v7zm4 0h-2V7h2v10zm4 0h-2v-4h2v4z\"/>\n",
       "    </g>\n",
       "</svg>\n",
       "  </button>\n",
       "\n",
       "<style>\n",
       "  .colab-df-quickchart {\n",
       "      --bg-color: #E8F0FE;\n",
       "      --fill-color: #1967D2;\n",
       "      --hover-bg-color: #E2EBFA;\n",
       "      --hover-fill-color: #174EA6;\n",
       "      --disabled-fill-color: #AAA;\n",
       "      --disabled-bg-color: #DDD;\n",
       "  }\n",
       "\n",
       "  [theme=dark] .colab-df-quickchart {\n",
       "      --bg-color: #3B4455;\n",
       "      --fill-color: #D2E3FC;\n",
       "      --hover-bg-color: #434B5C;\n",
       "      --hover-fill-color: #FFFFFF;\n",
       "      --disabled-bg-color: #3B4455;\n",
       "      --disabled-fill-color: #666;\n",
       "  }\n",
       "\n",
       "  .colab-df-quickchart {\n",
       "    background-color: var(--bg-color);\n",
       "    border: none;\n",
       "    border-radius: 50%;\n",
       "    cursor: pointer;\n",
       "    display: none;\n",
       "    fill: var(--fill-color);\n",
       "    height: 32px;\n",
       "    padding: 0;\n",
       "    width: 32px;\n",
       "  }\n",
       "\n",
       "  .colab-df-quickchart:hover {\n",
       "    background-color: var(--hover-bg-color);\n",
       "    box-shadow: 0 1px 2px rgba(60, 64, 67, 0.3), 0 1px 3px 1px rgba(60, 64, 67, 0.15);\n",
       "    fill: var(--button-hover-fill-color);\n",
       "  }\n",
       "\n",
       "  .colab-df-quickchart-complete:disabled,\n",
       "  .colab-df-quickchart-complete:disabled:hover {\n",
       "    background-color: var(--disabled-bg-color);\n",
       "    fill: var(--disabled-fill-color);\n",
       "    box-shadow: none;\n",
       "  }\n",
       "\n",
       "  .colab-df-spinner {\n",
       "    border: 2px solid var(--fill-color);\n",
       "    border-color: transparent;\n",
       "    border-bottom-color: var(--fill-color);\n",
       "    animation:\n",
       "      spin 1s steps(1) infinite;\n",
       "  }\n",
       "\n",
       "  @keyframes spin {\n",
       "    0% {\n",
       "      border-color: transparent;\n",
       "      border-bottom-color: var(--fill-color);\n",
       "      border-left-color: var(--fill-color);\n",
       "    }\n",
       "    20% {\n",
       "      border-color: transparent;\n",
       "      border-left-color: var(--fill-color);\n",
       "      border-top-color: var(--fill-color);\n",
       "    }\n",
       "    30% {\n",
       "      border-color: transparent;\n",
       "      border-left-color: var(--fill-color);\n",
       "      border-top-color: var(--fill-color);\n",
       "      border-right-color: var(--fill-color);\n",
       "    }\n",
       "    40% {\n",
       "      border-color: transparent;\n",
       "      border-right-color: var(--fill-color);\n",
       "      border-top-color: var(--fill-color);\n",
       "    }\n",
       "    60% {\n",
       "      border-color: transparent;\n",
       "      border-right-color: var(--fill-color);\n",
       "    }\n",
       "    80% {\n",
       "      border-color: transparent;\n",
       "      border-right-color: var(--fill-color);\n",
       "      border-bottom-color: var(--fill-color);\n",
       "    }\n",
       "    90% {\n",
       "      border-color: transparent;\n",
       "      border-bottom-color: var(--fill-color);\n",
       "    }\n",
       "  }\n",
       "</style>\n",
       "\n",
       "  <script>\n",
       "    async function quickchart(key) {\n",
       "      const quickchartButtonEl =\n",
       "        document.querySelector('#' + key + ' button');\n",
       "      quickchartButtonEl.disabled = true;  // To prevent multiple clicks.\n",
       "      quickchartButtonEl.classList.add('colab-df-spinner');\n",
       "      try {\n",
       "        const charts = await google.colab.kernel.invokeFunction(\n",
       "            'suggestCharts', [key], {});\n",
       "      } catch (error) {\n",
       "        console.error('Error during call to suggestCharts:', error);\n",
       "      }\n",
       "      quickchartButtonEl.classList.remove('colab-df-spinner');\n",
       "      quickchartButtonEl.classList.add('colab-df-quickchart-complete');\n",
       "    }\n",
       "    (() => {\n",
       "      let quickchartButtonEl =\n",
       "        document.querySelector('#df-5ffebfc6-f109-4848-b8a7-165338872a2a button');\n",
       "      quickchartButtonEl.style.display =\n",
       "        google.colab.kernel.accessAllowed ? 'block' : 'none';\n",
       "    })();\n",
       "  </script>\n",
       "</div>\n",
       "\n",
       "  <div id=\"id_74ff5b48-bcbc-4e35-8d02-c7d5a79988b8\">\n",
       "    <style>\n",
       "      .colab-df-generate {\n",
       "        background-color: #E8F0FE;\n",
       "        border: none;\n",
       "        border-radius: 50%;\n",
       "        cursor: pointer;\n",
       "        display: none;\n",
       "        fill: #1967D2;\n",
       "        height: 32px;\n",
       "        padding: 0 0 0 0;\n",
       "        width: 32px;\n",
       "      }\n",
       "\n",
       "      .colab-df-generate:hover {\n",
       "        background-color: #E2EBFA;\n",
       "        box-shadow: 0px 1px 2px rgba(60, 64, 67, 0.3), 0px 1px 3px 1px rgba(60, 64, 67, 0.15);\n",
       "        fill: #174EA6;\n",
       "      }\n",
       "\n",
       "      [theme=dark] .colab-df-generate {\n",
       "        background-color: #3B4455;\n",
       "        fill: #D2E3FC;\n",
       "      }\n",
       "\n",
       "      [theme=dark] .colab-df-generate:hover {\n",
       "        background-color: #434B5C;\n",
       "        box-shadow: 0px 1px 3px 1px rgba(0, 0, 0, 0.15);\n",
       "        filter: drop-shadow(0px 1px 2px rgba(0, 0, 0, 0.3));\n",
       "        fill: #FFFFFF;\n",
       "      }\n",
       "    </style>\n",
       "    <button class=\"colab-df-generate\" onclick=\"generateWithVariable('validation_df')\"\n",
       "            title=\"Generate code using this dataframe.\"\n",
       "            style=\"display:none;\">\n",
       "\n",
       "  <svg xmlns=\"http://www.w3.org/2000/svg\" height=\"24px\"viewBox=\"0 0 24 24\"\n",
       "       width=\"24px\">\n",
       "    <path d=\"M7,19H8.4L18.45,9,17,7.55,7,17.6ZM5,21V16.75L18.45,3.32a2,2,0,0,1,2.83,0l1.4,1.43a1.91,1.91,0,0,1,.58,1.4,1.91,1.91,0,0,1-.58,1.4L9.25,21ZM18.45,9,17,7.55Zm-12,3A5.31,5.31,0,0,0,4.9,8.1,5.31,5.31,0,0,0,1,6.5,5.31,5.31,0,0,0,4.9,4.9,5.31,5.31,0,0,0,6.5,1,5.31,5.31,0,0,0,8.1,4.9,5.31,5.31,0,0,0,12,6.5,5.46,5.46,0,0,0,6.5,12Z\"/>\n",
       "  </svg>\n",
       "    </button>\n",
       "    <script>\n",
       "      (() => {\n",
       "      const buttonEl =\n",
       "        document.querySelector('#id_74ff5b48-bcbc-4e35-8d02-c7d5a79988b8 button.colab-df-generate');\n",
       "      buttonEl.style.display =\n",
       "        google.colab.kernel.accessAllowed ? 'block' : 'none';\n",
       "\n",
       "      buttonEl.onclick = () => {\n",
       "        google.colab.notebook.generateWithVariable('validation_df');\n",
       "      }\n",
       "      })();\n",
       "    </script>\n",
       "  </div>\n",
       "\n",
       "    </div>\n",
       "  </div>\n"
      ],
      "text/plain": [
       "                                            question  \\\n",
       "0  Who had the highest assists-to-turnover ratio ...   \n",
       "1  Which player scored the most points for the Go...   \n",
       "2  How many games did Giannis Antetokounmpo play ...   \n",
       "3  Which player had the most defensive rebounds f...   \n",
       "4  What was the field goal percentage of Stephen ...   \n",
       "5  Who recorded the most steals for the Los Angel...   \n",
       "6  Which player made the most three-pointers in 2...   \n",
       "7    How many blocks did Anthony Davis have in 2018?   \n",
       "8  Which player had the most free throws made for...   \n",
       "9  Who had the highest three-point percentage for...   \n",
       "\n",
       "                                              answer validation  \n",
       "0  The player with the highest assists-to-turnove...          0  \n",
       "1  I apologize, but there is no data available fo...          1  \n",
       "2  I apologize, but there is no data available fo...          1  \n",
       "3  \"In 2021, Bam Adebayo led the Miami Heat with ...          0  \n",
       "4  I apologize, but there is no data available fo...          1  \n",
       "5  Based on the data, Jarred Vanderbilt recorded ...          0  \n",
       "6  In the 2023 regular season, Stephen Curry led ...          0  \n",
       "7              Anthony Davis had 135 blocks in 2018.          0  \n",
       "8  Here is a natural language response:\\n\\n\"In 20...          0  \n",
       "9  I apologize, but there is no data available fo...          0  "
      ]
     },
     "execution_count": 230,
     "metadata": {},
     "output_type": "execute_result"
    }
   ],
   "source": [
    "validation_df = pd.DataFrame(processed_data)\n",
    "validation_df.head()"
   ]
  },
  {
   "cell_type": "code",
   "execution_count": 232,
   "id": "aciWChkXotXe",
   "metadata": {
    "colab": {
     "base_uri": "https://localhost:8080/",
     "height": 178
    },
    "id": "aciWChkXotXe",
    "outputId": "c8f6f670-c4d0-4e04-a294-c5fde5a0b47d"
   },
   "outputs": [
    {
     "data": {
      "text/html": [
       "<div>\n",
       "<style scoped>\n",
       "    .dataframe tbody tr th:only-of-type {\n",
       "        vertical-align: middle;\n",
       "    }\n",
       "\n",
       "    .dataframe tbody tr th {\n",
       "        vertical-align: top;\n",
       "    }\n",
       "\n",
       "    .dataframe thead th {\n",
       "        text-align: right;\n",
       "    }\n",
       "</style>\n",
       "<table border=\"1\" class=\"dataframe\">\n",
       "  <thead>\n",
       "    <tr style=\"text-align: right;\">\n",
       "      <th></th>\n",
       "      <th>count</th>\n",
       "    </tr>\n",
       "    <tr>\n",
       "      <th>validation</th>\n",
       "      <th></th>\n",
       "    </tr>\n",
       "  </thead>\n",
       "  <tbody>\n",
       "    <tr>\n",
       "      <th>0</th>\n",
       "      <td>7</td>\n",
       "    </tr>\n",
       "    <tr>\n",
       "      <th>1</th>\n",
       "      <td>3</td>\n",
       "    </tr>\n",
       "  </tbody>\n",
       "</table>\n",
       "</div><br><label><b>dtype:</b> int64</label>"
      ],
      "text/plain": [
       "validation\n",
       "0    7\n",
       "1    3\n",
       "Name: count, dtype: int64"
      ]
     },
     "execution_count": 232,
     "metadata": {},
     "output_type": "execute_result"
    }
   ],
   "source": [
    "# Count the number of 0s in the 'games_played' column\n",
    "zero_count = validation_df['validation'].value_counts()\n",
    "zero_count"
   ]
  },
  {
   "cell_type": "markdown",
   "id": "02748b20",
   "metadata": {},
   "source": [
    "## Step 8: Create function to calculate relevancy score (relevant / total)"
   ]
  },
  {
   "cell_type": "code",
   "execution_count": 233,
   "id": "d1i_WbXMyXun",
   "metadata": {
    "colab": {
     "base_uri": "https://localhost:8080/"
    },
    "id": "d1i_WbXMyXun",
    "outputId": "8299b613-8ff8-42c3-8065-1d781edd61d0"
   },
   "outputs": [
    {
     "name": "stdout",
     "output_type": "stream",
     "text": [
      "Model Relevancy Score - (0's (for relevant)/total rows) for 'validation - ': 70.00%\n"
     ]
    }
   ],
   "source": [
    "def calculate_zero_score(df, column_name):\n",
    "    zero_count = (df[column_name] == '0').sum()  # Count of 0's in the column\n",
    "    total_rows = len(df)  # Total number of rows\n",
    "    score = (zero_count / total_rows)*100  # Score as a fraction\n",
    "    return score\n",
    "\n",
    "# Calculate the score\n",
    "score = calculate_zero_score(validation_df, \"validation\")\n",
    "print(f\"Model Relevancy Score - (0's (for relevant)/total rows) for 'validation - ': {score:.2f}%\")"
   ]
  },
  {
   "cell_type": "markdown",
   "id": "XQdO6RXNyWua",
   "metadata": {
    "id": "XQdO6RXNyWua"
   },
   "source": [
    "# 70% Relevance\n",
    "This is not an accurate reflection of the models true relevance. The questions are guided to retrieve an actual response from the model, take a look at our edge cases questions (the last 5 questions) where the model has enormous room for improvement."
   ]
  },
  {
   "cell_type": "code",
   "execution_count": 233,
   "id": "URH_YA6AzBQc",
   "metadata": {
    "id": "URH_YA6AzBQc"
   },
   "outputs": [],
   "source": []
  }
 ],
 "metadata": {
  "colab": {
   "provenance": []
  },
  "kernelspec": {
   "display_name": "Python 3",
   "language": "python",
   "name": "python3"
  },
  "language_info": {
   "codemirror_mode": {
    "name": "ipython",
    "version": 3
   },
   "file_extension": ".py",
   "mimetype": "text/x-python",
   "name": "python",
   "nbconvert_exporter": "python",
   "pygments_lexer": "ipython3",
   "version": "3.12.3"
  }
 },
 "nbformat": 4,
 "nbformat_minor": 5
}
