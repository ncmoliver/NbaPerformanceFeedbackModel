{
 "cells": [
  {
   "cell_type": "code",
   "execution_count": 2,
   "id": "0ee9148e-c80a-42f8-9e51-b7e41b5aade0",
   "metadata": {
    "tags": []
   },
   "outputs": [],
   "source": [
    "from langchain.sql_database import SQLDatabase"
   ]
  },
  {
   "cell_type": "code",
   "execution_count": 3,
   "id": "0c70b366-0f87-43e5-b190-6da3c1abdd59",
   "metadata": {
    "tags": []
   },
   "outputs": [],
   "source": [
    "db=SQLDatabase.from_uri('sqlite:///nba_stats.db')"
   ]
  },
  {
   "cell_type": "code",
   "execution_count": 5,
   "id": "0999cdf1-de6a-4684-916b-38d07c408e09",
   "metadata": {
    "tags": []
   },
   "outputs": [
    {
     "name": "stdout",
     "output_type": "stream",
     "text": [
      "\n",
      "CREATE TABLE player_stats (\n",
      "\t\"index\" INTEGER, \n",
      "\tyear TEXT, \n",
      "\t\"Season_type\" TEXT, \n",
      "\t\"PLAYER_ID\" INTEGER, \n",
      "\t\"RANK\" INTEGER, \n",
      "\t\"PLAYER\" TEXT, \n",
      "\t\"TEAM_ID\" INTEGER, \n",
      "\t\"TEAM\" TEXT, \n",
      "\t\"GP\" INTEGER, \n",
      "\t\"MIN\" INTEGER, \n",
      "\t\"FGM\" INTEGER, \n",
      "\t\"FGA\" INTEGER, \n",
      "\t\"FG_PCT\" REAL, \n",
      "\t\"FG3M\" INTEGER, \n",
      "\t\"FG3A\" INTEGER, \n",
      "\t\"FG3_PCT\" REAL, \n",
      "\t\"FTM\" INTEGER, \n",
      "\t\"FTA\" INTEGER, \n",
      "\t\"FT_PCT\" REAL, \n",
      "\t\"OREB\" INTEGER, \n",
      "\t\"DREB\" INTEGER, \n",
      "\t\"REB\" INTEGER, \n",
      "\t\"AST\" INTEGER, \n",
      "\t\"STL\" INTEGER, \n",
      "\t\"BLK\" INTEGER, \n",
      "\t\"TOV\" INTEGER, \n",
      "\t\"PF\" INTEGER, \n",
      "\t\"PTS\" INTEGER, \n",
      "\t\"AST_TOV\" REAL, \n",
      "\t\"STL_TOV\" REAL\n",
      ")\n",
      "\n",
      "/*\n",
      "3 rows from player_stats table:\n",
      "index\tyear\tSeason_type\tPLAYER_ID\tRANK\tPLAYER\tTEAM_ID\tTEAM\tGP\tMIN\tFGM\tFGA\tFG_PCT\tFG3M\tFG3A\tFG3_PCT\tFTM\tFTA\tFT_PCT\tOREB\tDREB\tREB\tAST\tSTL\tBLK\tTOV\tPF\tPTS\tAST_TOV\tSTL_TOV\n",
      "0\t2012-13\tRegular_Season\t201142\t1\tKevin Durant\t1610612760\tOKC\t81\t3119\t731\t1433\t0.51\t139\t334\t0.416\t679\t750\t0.905\t46\t594\t640\t374\t116\t105\t280\t143\t2280\t1.34\t0.41\n",
      "1\t2012-13\tRegular_Season\t977\t2\tKobe Bryant\t1610612747\tLAL\t78\t3013\t738\t1595\t0.463\t132\t407\t0.324\t525\t626\t0.839\t66\t367\t433\t469\t106\t25\t287\t173\t2133\t1.63\t0.37\n",
      "2\t2012-13\tRegular_Season\t2544\t3\tLeBron James\t1610612748\tMIA\t76\t2877\t765\t1354\t0.565\t103\t254\t0.406\t403\t535\t0.753\t97\t513\t610\t551\t129\t67\t226\t110\t2036\t2.44\t0.57\n",
      "*/\n"
     ]
    }
   ],
   "source": [
    "print(db.get_table_info())"
   ]
  },
  {
   "cell_type": "code",
   "execution_count": null,
   "id": "a6c05e3a-afc1-4ee7-bba4-5c5e050d218e",
   "metadata": {},
   "outputs": [],
   "source": []
  }
 ],
 "metadata": {
  "kernelspec": {
   "display_name": "Python 3 (ipykernel)",
   "language": "python",
   "name": "python3"
  },
  "language_info": {
   "codemirror_mode": {
    "name": "ipython",
    "version": 3
   },
   "file_extension": ".py",
   "mimetype": "text/x-python",
   "name": "python",
   "nbconvert_exporter": "python",
   "pygments_lexer": "ipython3",
   "version": "3.11.5"
  }
 },
 "nbformat": 4,
 "nbformat_minor": 5
}
